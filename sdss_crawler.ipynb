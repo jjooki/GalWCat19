{
 "cells": [
  {
   "cell_type": "code",
   "execution_count": 171,
   "id": "03ae6aff",
   "metadata": {},
   "outputs": [],
   "source": [
    "from selenium import webdriver\n",
    "from selenium.webdriver.common.keys import Keys\n",
    "from selenium.webdriver.common.by import By\n",
    "\n",
    "import scipy.integrate as integrate\n",
    "\n",
    "import warnings\n",
    "warnings.filterwarnings(action='ignore')\n",
    "\n",
    "import time\n",
    "import math\n",
    "import numpy as np\n",
    "import pandas as pd\n",
    "from bs4 import BeautifulSoup\n",
    "import requests\n",
    "import os\n",
    "\n",
    "c = 299792.458\n",
    "sign = 8"
   ]
  },
  {
   "cell_type": "code",
   "execution_count": 50,
   "id": "ff8c4568",
   "metadata": {},
   "outputs": [],
   "source": [
    "def set_chrome_driver():\n",
    "    chrome_options = webdriver.ChromeOptions()\n",
    "    driver = webdriver.Chrome(executable_path=\"../chromedriver\",\n",
    "                              options=chrome_options)\n",
    "    return driver"
   ]
  },
  {
   "cell_type": "code",
   "execution_count": 190,
   "id": "73d05288",
   "metadata": {},
   "outputs": [],
   "source": [
    "def make_query(ra, dec, r200, dist, z_upper, z_lower):\n",
    "    theta = np.arcsin(r200 / dist) * 60 * 180 / np.pi\n",
    "    query = f\"\"\"SELECT\n",
    "   p.objid, p.ra, p.dec, p.l, p.b,\n",
    "   p.petroMag_u-p.extinction_u AS mag_u,\n",
    "   p.petroMag_g-p.extinction_g AS mag_g,\n",
    "   p.petroMag_r-p.extinction_r AS mag_r,\n",
    "   p.petroMag_i-p.extinction_i AS mag_i,\n",
    "   p.petroMag_z-p.extinction_z AS mag_z,\n",
    "   s.z as redshift, s.zErr as redshift_err,\n",
    "   s.velDisp, s.velDispErr,\n",
    "   passive.logmass as passive_logmass,\n",
    "   ROUND(pca.mstellar_median, 2) as pca_logmass,\n",
    "   ROUND(passive.logmass-passive.minlogmass, 3) as logmass_lowerErr,\n",
    "   ROUND(passive.maxlogmass-passive.logmass, 3) as logmass_upperErr,\n",
    "   passive.absMagK,\n",
    "   pca.vdisp_median as pca_vdisp, pca.vdisp_err as pca_vdisp_err,\n",
    "   zoo.p_el_debiased as frac_ellip,\n",
    "   zoo.p_cs_debiased as frac_spiral\n",
    "FROM Galaxy AS p\n",
    "   JOIN dbo.fGetNearbyObjEq({ra}, {dec}, {theta}) AS GN ON GN.objid = p.objid\n",
    "   JOIN SpecObj AS s ON s.bestobjid = p.objid\n",
    "   LEFT JOIN stellarMassPassivePort AS passive ON passive.specobjid = s.specobjid\n",
    "   LEFT JOIN stellarMassPCAWiscM11 AS pca ON pca.specobjid = s.specobjid\n",
    "   LEFT JOIN zooSpec AS zoo ON zoo.specobjid = s.specobjid\n",
    "WHERE\n",
    "   s.class = 'GALAXY'\n",
    "   AND s.z BETWEEN {z_lower} AND {z_upper}\"\"\"\n",
    "    return query"
   ]
  },
  {
   "cell_type": "code",
   "execution_count": 84,
   "id": "225d4c31",
   "metadata": {},
   "outputs": [
    {
     "name": "stdout",
     "output_type": "stream",
     "text": [
      "SELECT\n",
      "   p.objid, p.ra, p.dec, p.l, p.b,\n",
      "   p.petroMag_u-p.extinction_u AS mag_u,\n",
      "   p.petroMag_g-p.extinction_g AS mag_g,\n",
      "   p.petroMag_r-p.extinction_r AS mag_r,\n",
      "   p.petroMag_i-p.extinction_i AS mag_i,\n",
      "   p.petroMag_z-p.extinction_z AS mag_z,\n",
      "   s.z as redshift,\n",
      "   z.p_el as elliptical, \n",
      "   z.p_cw as spiralclock, z.p_acw as spiralanticlock,\n",
      "   z.p_edge as edgeon, z.p_mg as merger\n",
      "FROM Galaxy AS p\n",
      "   JOIN SpecObj AS s ON s.bestobjid = p.objid\n",
      "   JOIN ZooNoSpec AS z ON z.objid = p.objid\n",
      "WHERE\n",
      "   s.class = 'GALAXY'\n",
      "   AND p.ra BETWEEN -28.999999999999996 AND 30.999999999999996\n",
      "   AND p.dec BETWEEN -28.999999999999996 AND 30.999999999999996\n"
     ]
    }
   ],
   "source": [
    "query = make_query(1,1,0.5,1)\n",
    "print(query)"
   ]
  },
  {
   "cell_type": "code",
   "execution_count": 130,
   "id": "60b7f10e",
   "metadata": {},
   "outputs": [],
   "source": [
    "def get_csv(driver, query):\n",
    "    driver.find_element(By.XPATH, '//*[@id=\"clear\"]').click()\n",
    "    driver.find_element(By.XPATH, '//*[@id=\"cmd\"]').send_keys(query)\n",
    "    driver.find_element(By.XPATH, '//*[@id=\"transp\"]/form/table/tbody/tr[3]/td/table/tbody/tr/td[2]/table/tbody/tr[1]/td[4]/input').click()\n",
    "    driver.find_element(By.XPATH, '/html/body/div[4]/form/table/tbody/tr[3]/td/table/tbody/tr/td[1]/table/tbody/tr[6]/td/input').click()\n",
    "    \n",
    "    time.sleep(np.random.randint(15,20))\n",
    "    \n",
    "def get_html(driver, query):\n",
    "    driver.find_element(By.XPATH, '//*[@id=\"clear\"]').click()\n",
    "    driver.find_element(By.XPATH, '//*[@id=\"cmd\"]').send_keys(query)\n",
    "    driver.find_element(By.XPATH, '/html/body/div[4]/form/table/tbody/tr[3]/td/table/tbody/tr/td[1]/table/tbody/tr[6]/td/input').click()\n",
    "    \n",
    "    time.sleep(np.random.randint(15,20))"
   ]
  },
  {
   "cell_type": "code",
   "execution_count": 180,
   "id": "017f74c4",
   "metadata": {},
   "outputs": [],
   "source": [
    "def digitScaler(num, sign):\n",
    "    digit = math.floor(np.log10(num))\n",
    "    n = num / 10**digit\n",
    "    n = round(n, sign-1)\n",
    "    return n * math.pow(10,digit)\n",
    "\n",
    "def redshift(v_r):\n",
    "    # calculating relativistic redshift with radial velocity\n",
    "    return np.sqrt((c + v_r)/(c - v_r)) - 1\n",
    "\n",
    "def radial_v(z):\n",
    "    # calculating relativistic radial velocity with redshift\n",
    "    return c * ((z+1)**2 - 1)/((z+1)**2 + 1)\n",
    "\n",
    "def dimless_h(z, h_0=1):\n",
    "    # Calculating dimesionless hubble constant, h(z)\n",
    "    # According to the GalWCat19 paper,\n",
    "    # Omega(r, m, k, gamma) = (0, 0.3, 0, 0.7)\n",
    "    # h_0 = 0.7\n",
    "    return h_0 * np.sqrt(0.3*(1+z)**3 + 0.7)\n",
    "\n",
    "def comv_dist(z):\n",
    "    return (c / 100) * integrate.quad(lambda x: 1/dimless_h(x), 0, z)[0]\n",
    "\n",
    "def angular_dist(delta_ra, delta_dec):\n",
    "    tr = np.pi / 180\n",
    "    return np.arccos(np.cos(delta_ra * tr) * np.cos(delta_dec * tr)) / tr"
   ]
  },
  {
   "cell_type": "code",
   "execution_count": 165,
   "id": "162e2da0",
   "metadata": {},
   "outputs": [],
   "source": [
    "header = ['ra', 'dec', 'z', 'v_r',\n",
    "          'comv_dist', 'r_200', 'N_200', 'sigma_200',\n",
    "          'sigma_200_lowerErr', 'sigma_200_upperErr', 'M_200', 'M_200_Err',\n",
    "          'R_s', 'R_s_Err', 'M_s', 'M_s_Err']\n",
    "cls_info = pd.read_csv('./GalWCls19_summary.csv',index_col=0)\n",
    "cls_info.columns = header"
   ]
  },
  {
   "cell_type": "code",
   "execution_count": 178,
   "id": "1c5195e2",
   "metadata": {},
   "outputs": [
    {
     "name": "stdout",
     "output_type": "stream",
     "text": [
      "21137.193\n",
      "21137.193\n",
      "215.71431\n",
      "215.71430999999998\n"
     ]
    }
   ],
   "source": [
    "cls1 = cls_info.iloc[0,:]\n",
    "\n",
    "v = cls1['v_r']\n",
    "z_calc = redshift(v)\n",
    "v_calc = radial_v(cls1['z'])\n",
    "print(digitScaler(v_calc, sign))\n",
    "print(v)\n",
    "print(cls1['comv_dist'])\n",
    "print(digitScaler(comv_dist(cls1['z']), sign))"
   ]
  },
  {
   "cell_type": "code",
   "execution_count": 187,
   "id": "42750e5b",
   "metadata": {},
   "outputs": [
    {
     "name": "stdout",
     "output_type": "stream",
     "text": [
      "1.4141777\n",
      "1.4142135623730951\n"
     ]
    }
   ],
   "source": [
    "print(digitScaler(angular_dist(1, 1), sign_fig))"
   ]
  },
  {
   "cell_type": "code",
   "execution_count": 191,
   "id": "b3138088",
   "metadata": {},
   "outputs": [],
   "source": [
    "url = \"http://skyserver.sdss.org/dr13/en/tools/search/sql.aspx\"\n",
    "driver = set_chrome_driver()\n",
    "driver.get(url)\n",
    "\n",
    "for idx, cls in cls_info.iterrows():\n",
    "    ra = cls['ra']\n",
    "    dec = cls['dec']\n",
    "    dist = cls['comv_dist']\n",
    "    r200 = cls['r_200']\n",
    "    v_r = cls['v_r']\n",
    "    sigma_upper = cls['sigma_200'] + cls['sigma_200_upperErr']\n",
    "    \n",
    "    z_upper = redshift(v_r + sigma_upper)\n",
    "    z_lower = redshift(v_r - sigma_upper)\n",
    "    \n",
    "    query = make_query(ra, dec, r200, dist, z_upper, z_lower)\n",
    "#     get_html(driver, query)\n",
    "    get_csv(driver, query)\n",
    "    \n",
    "#     if idx > 0:\n",
    "#         break"
   ]
  },
  {
   "cell_type": "code",
   "execution_count": null,
   "id": "9d1dac9f",
   "metadata": {},
   "outputs": [],
   "source": []
  }
 ],
 "metadata": {
  "kernelspec": {
   "display_name": "Python 3 (ipykernel)",
   "language": "python",
   "name": "python3"
  },
  "language_info": {
   "codemirror_mode": {
    "name": "ipython",
    "version": 3
   },
   "file_extension": ".py",
   "mimetype": "text/x-python",
   "name": "python",
   "nbconvert_exporter": "python",
   "pygments_lexer": "ipython3",
   "version": "3.9.12"
  }
 },
 "nbformat": 4,
 "nbformat_minor": 5
}
